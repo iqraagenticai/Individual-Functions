{
 "cells": [
  {
   "cell_type": "code",
   "execution_count": null,
   "id": "da555796",
   "metadata": {},
   "outputs": [],
   "source": [
    "from agents import Agent, trace, WebSearchTool, Runner, function_tool\n",
    "from agents.model_settings import ModelSettings\n",
    "import os\n",
    "from dotenv import load_dotenv\n"
   ]
  },
  {
   "cell_type": "code",
   "execution_count": 6,
   "id": "1f64a95e",
   "metadata": {},
   "outputs": [
    {
     "data": {
      "text/plain": [
       "True"
      ]
     },
     "execution_count": 6,
     "metadata": {},
     "output_type": "execute_result"
    }
   ],
   "source": [
    "load_dotenv()"
   ]
  },
  {
   "cell_type": "code",
   "execution_count": 7,
   "id": "4f8470f9",
   "metadata": {},
   "outputs": [],
   "source": [
    "# THe System prompt for the agent\n",
    "Instruction=\"You are a research agent. Based on the message provided by the user, you must research the web using websearch tool.\\\n",
    "     capture only the main points and write in 2 to 3 sentenecs. Mesaningful sentences are enough and no need to worry about the grammar. \\\n",
    "     Each paragraph should be less than 300 works. This will be consumed by someone synthesizing a report, so its vital you capture the \\\n",
    "     essence and ignore any fluff. Do not include any additional commentary other than the summary itself.\""
   ]
  },
  {
   "cell_type": "code",
   "execution_count": 8,
   "id": "69300bec",
   "metadata": {},
   "outputs": [],
   "source": [
    "from agents import ModelSettings\n",
    "\n",
    "\n",
    "searchagent = Agent(\n",
    "    name=\"searchagent\",\n",
    "    tools=[WebSearchTool(search_context_size=\"low\")],\n",
    "    model=\"gpt-4o-mini\",   # DeepSeek model name\n",
    "    instructions=Instruction,\n",
    "    model_settings=ModelSettings(tool_choice=\"required\")\n",
    ")"
   ]
  },
  {
   "cell_type": "code",
   "execution_count": 9,
   "id": "3815c306",
   "metadata": {},
   "outputs": [],
   "source": [
    "with trace(\"Running Agent\"):\n",
    "    result = await Runner.run(searchagent, \"Best AI Startup ideas with zero or low cost\")\n"
   ]
  },
  {
   "cell_type": "code",
   "execution_count": null,
   "id": "37f64eae",
   "metadata": {},
   "outputs": [],
   "source": [
    "from pydantic import BaseModel"
   ]
  },
  {
   "cell_type": "code",
   "execution_count": 16,
   "id": "b9d313a4",
   "metadata": {},
   "outputs": [],
   "source": [
    "# Now lets create a search assistancce tool that gives us 3 different searches based on the input provided by the user\n",
    "from pydantic import BaseModel\n",
    "from typing import List\n",
    "\n",
    "how_manu_searches=3\n",
    "Instructions=f\" You need to come up with {how_manu_searches} searches based on the query given to you\"\n",
    "\n",
    "# lets create pydantec basemodel class for output\n",
    "\n",
    "class websearchitem(BaseModel):\n",
    "     reason: str\n",
    "     query: str\n",
    "\n",
    "class websearchlist(BaseModel):\n",
    "    searches: List[websearchitem]\n",
    "\n",
    "helpingagent=Agent(\n",
    "    name=\"helpingagent\",\n",
    "     model=\"gpt-4o-mini\",\n",
    "     instructions=Instructions,\n",
    "     output_type=websearchlist\n",
    ")"
   ]
  },
  {
   "cell_type": "code",
   "execution_count": 32,
   "id": "d1c877c7",
   "metadata": {},
   "outputs": [],
   "source": [
    "# Now lets feed these searcches to our search agent\n",
    "\n",
    "# We must write functions and call them \n",
    "\n",
    "async def plan_searches(query: str):\n",
    "    \"\"\" Use the planner_agent to plan which searches to run for the query \"\"\"\n",
    "    print(\"Planning searches...\")\n",
    "    result = await Runner.run(helpingagent, f\"Query: {query}\")\n",
    "    print(f\"Will perform {len(result.final_output.searches)} searches\")\n",
    "    print (result.final_output)\n",
    "    return result.final_output\n"
   ]
  },
  {
   "cell_type": "code",
   "execution_count": 34,
   "id": "3ace5c95",
   "metadata": {},
   "outputs": [],
   "source": [
    "import asyncio"
   ]
  },
  {
   "cell_type": "code",
   "execution_count": 37,
   "id": "d496943f",
   "metadata": {},
   "outputs": [],
   "source": [
    "# Now time to feed each single search item in actual search agent using a function \n",
    "# first function using asyncio, taking the list from the previous func, and then adding it together as tasks which has a search function but it is not executed unless it is called\n",
    "# in the next search function.  the task is run using gather.\n",
    "\n",
    "async def perform_searches(search_plan: websearchlist):\n",
    "    \"\"\" Call search() for each item in the search plan \"\"\"\n",
    "    print(\"Searching...\")\n",
    "    tasks = [asyncio.create_task(search(item)) for item in search_plan.searches]\n",
    "    results = await asyncio.gather(*tasks)\n",
    "    print(\"Finished searching\")\n",
    "    return results\n",
    "\n",
    "async def search(item: websearchitem):\n",
    "    \"\"\" Use the search agent to run a web search for each item in the search plan \"\"\"\n",
    "    input = f\"Search term: {item.query}\\nReason for searching: {item.reason}\"\n",
    "    result = await Runner.run(searchagent, input)\n",
    "    return result.final_output\n"
   ]
  },
  {
   "cell_type": "code",
   "execution_count": 59,
   "id": "5867aa3e",
   "metadata": {},
   "outputs": [],
   "source": [
    "from sendgrid.helpers.mail import Mail, Email, To, Content\n",
    "from typing import Dict\n",
    "import sendgrid"
   ]
  },
  {
   "cell_type": "code",
   "execution_count": null,
   "id": "e2ac20a1",
   "metadata": {},
   "outputs": [],
   "source": [
    "# Now lets create some function_tools and we can use guardrail and  in the same lab test\n",
    "from sendgrid.helpers.mail import email\n",
    "@function_tool\n",
    "def send_email(subject: str, html_body: str) -> Dict[str, str]:\n",
    "    \"\"\" Send out an email with the given subject and HTML body \"\"\"\n",
    "    sg = sendgrid.SendGridAPIClient(api_key=os.environ.get('SENDGRID_API_KEY'))\n",
    "    from_email = Email(\"iqra@iqratech.site\") # Change this to your verified email\n",
    "    to_email = To(\"iqraagenticai@gmail.com\") # Change this to your email\n",
    "    content = Content(\"text/html\", html_body)\n",
    "    mail = Mail(from_email, to_email, subject, content).get()\n",
    "    response = sg.client.mail.send.post(request_body=mail)\n",
    "    return {\"status\": \"success\"}\n",
    "\n",
    "\n"
   ]
  },
  {
   "cell_type": "code",
   "execution_count": 67,
   "id": "95f29453",
   "metadata": {},
   "outputs": [],
   "source": [
    "INSTRUCTIONS = \"\"\"You are able to send a nicely formatted HTML email based on a detailed report.\n",
    "You will be provided with a detailed report. You should use your tool to send one email, providing the \n",
    "report converted into clean, well presented HTML with an appropriate subject line.\"\"\"\n",
    "\n",
    "\n",
    "\n",
    "emailsender=Agent(\n",
    "    name=\"emailsender\",\n",
    "    model=\"gpt-4o-mini\",\n",
    "    tools=[send_email],\n",
    "    instructions=INSTRUCTIONS\n",
    "\n",
    ")"
   ]
  },
  {
   "cell_type": "code",
   "execution_count": 52,
   "id": "86298070",
   "metadata": {},
   "outputs": [],
   "source": [
    "# Now lets create Manager or analyser agent\n",
    "INSTRUCTIONS = (\n",
    "    \"You are a senior researcher tasked with writing a cohesive report for a research query. \"\n",
    "    \"You will be provided with the original query, and some initial research done by a research assistant.\\n\"\n",
    "    \"You should first come up with an outline for the report that describes the structure and \"\n",
    "    \"flow of the report. Then, generate the report and return that as your final output.\\n\"\n",
    "    \"The final output should be in markdown format, and it should be lengthy and detailed. Aim \"\n",
    "    \"for 5-10 pages of content, at least 1000 words.\"\n",
    ")\n",
    "\n",
    "\n",
    "class ReportData(BaseModel):\n",
    "    short_summary: str \n",
    "\n",
    "    markdown_report: str \n",
    "\n",
    "    follow_up_questions: list[str] \n",
    "\n",
    "\n",
    "writer_agent = Agent(\n",
    "    name=\"WriterAgent\",\n",
    "    instructions=INSTRUCTIONS,\n",
    "    model=\"gpt-4o-mini\",\n",
    "    output_type=ReportData,\n",
    ")"
   ]
  },
  {
   "cell_type": "code",
   "execution_count": 48,
   "id": "9a5c69d5",
   "metadata": {},
   "outputs": [],
   "source": [
    "from agents import input_guardrail, GuardrailFunctionOutput"
   ]
  },
  {
   "cell_type": "code",
   "execution_count": 49,
   "id": "c1bc8f00",
   "metadata": {},
   "outputs": [],
   "source": [
    "class guard_check(BaseModel):\n",
    "    is_name_found: bool\n",
    "    found_name: str\n",
    "\n",
    "# Create an agent to give the output\n",
    "guard_agent=Agent(\n",
    "    name=\"Guard Agent\",\n",
    "    model=\"gpt-4o-mini\",\n",
    "    instructions=\"Check if the input of the user contains personal names in what you want to do\",\n",
    "    output_type=guard_check\n",
    ")\n",
    "\n",
    "@input_guardrail\n",
    "async def guardrail_func(ctx, agent, message):\n",
    "\n",
    "     # Run the agent in this such as superevisor checking the xray machine and turning it on.\n",
    "    result=await Runner.run(guard_agent, message, context=ctx.context)\n",
    "\n",
    "     # Check if name exist and return the name\n",
    "    is_name_found=result.final_output.is_name_found # Check if name exist and return the name\n",
    "    found_name=result.final_output\n",
    "    return GuardrailFunctionOutput(output_info=found_name, tripwire_triggered=is_name_found)"
   ]
  },
  {
   "cell_type": "code",
   "execution_count": 71,
   "id": "78a8ce85",
   "metadata": {},
   "outputs": [],
   "source": [
    "async def write_report(query: str, search_results: list[str]):\n",
    "    \"\"\" Use the writer agent to write a report based on the search results\"\"\"\n",
    "    print(\"Thinking about report...\")\n",
    "    input = f\"Original query: {query}\\nSummarized search results: {search_results}\"\n",
    "    result = await Runner.run(writer_agent, input)\n",
    "    print(\"Finished writing report\")\n",
    "    return result.final_output\n",
    "\n",
    "async def send_email(report: ReportData):\n",
    "    \"\"\" Use the email agent to send an email with the report \"\"\"\n",
    "    print(\"Writing email...\")\n",
    "    result = await Runner.run(emailsender, report.markdown_report)\n",
    "    print(\"Email sent\")\n",
    "    return report"
   ]
  },
  {
   "cell_type": "code",
   "execution_count": null,
   "id": "3ccdafd0",
   "metadata": {},
   "outputs": [],
   "source": [
    "nextresult=\"\"\n",
    "query =\"Latest AI Agent frameworks in 2025\"\n",
    "\n",
    "with trace(\"Research trace\"):\n",
    "    print(\"Starting research...\")\n",
    "    search_plan = await plan_searches(query)\n",
    "    search_results = await perform_searches(search_plan)\n",
    "    report = await write_report(query, search_results)\n",
    "    nextresult=report\n",
    "    await send_email(report)  \n",
    "    print(\"Hooray!\")"
   ]
  },
  {
   "cell_type": "code",
   "execution_count": 72,
   "id": "15e20284",
   "metadata": {},
   "outputs": [
    {
     "name": "stdout",
     "output_type": "stream",
     "text": [
      "Sending email with existing report...\n",
      "Writing email...\n",
      "Email sent\n",
      "Email sent successfully!\n"
     ]
    }
   ],
   "source": [
    "# Just send the email with the existing report, no new searches\n",
    "with trace(\"Email retry\"):\n",
    "    print(\"Sending email with existing report...\")\n",
    "    await send_email(nextresult)  \n",
    "    print(\"Email sent successfully!\")"
   ]
  }
 ],
 "metadata": {
  "kernelspec": {
   "display_name": ".venv",
   "language": "python",
   "name": "python3"
  },
  "language_info": {
   "codemirror_mode": {
    "name": "ipython",
    "version": 3
   },
   "file_extension": ".py",
   "mimetype": "text/x-python",
   "name": "python",
   "nbconvert_exporter": "python",
   "pygments_lexer": "ipython3",
   "version": "3.12.11"
  }
 },
 "nbformat": 4,
 "nbformat_minor": 5
}
